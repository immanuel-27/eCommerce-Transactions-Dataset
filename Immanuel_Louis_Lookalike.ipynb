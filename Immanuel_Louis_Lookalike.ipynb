{
 "cells": [
  {
   "cell_type": "code",
   "execution_count": 1,
   "id": "08bd79c1-8c8a-425a-97f7-4b0da9700c65",
   "metadata": {},
   "outputs": [
    {
     "name": "stdout",
     "output_type": "stream",
     "text": [
      "  CustomerID                               SimilarCustomers\n",
      "0      C0001  [(C0107, 0.85), (C0137, 0.84), (C0184, 0.84)]\n",
      "1      C0002  [(C0088, 0.85), (C0142, 0.74), (C0159, 0.66)]\n",
      "2      C0003  [(C0147, 0.88), (C0190, 0.86), (C0174, 0.66)]\n",
      "3      C0004  [(C0113, 0.66), (C0102, 0.47), (C0012, 0.35)]\n",
      "4      C0005  [(C0186, 0.85), (C0159, 0.84), (C0140, 0.67)]\n"
     ]
    }
   ],
   "source": [
    "import pandas as pd\n",
    "import numpy as np\n",
    "from sklearn.preprocessing import StandardScaler\n",
    "from sklearn.neighbors import NearestNeighbors\n",
    "\n",
    "# Load Data\n",
    "customers = pd.read_csv(\"/Intern Project/Customers.csv\")\n",
    "transactions = pd.read_csv(\"/Intern Project/Transactions.csv\")\n",
    "\n",
    "# Aggregate Transaction Data\n",
    "customer_spending = transactions.groupby(\"CustomerID\").agg({\n",
    "    \"TotalValue\": \"sum\",\n",
    "    \"Quantity\": \"sum\"\n",
    "}).reset_index()\n",
    "\n",
    "# Merge with Customer Data\n",
    "customer_profile = customers.merge(customer_spending, on=\"CustomerID\", how=\"left\").fillna(0)\n",
    "\n",
    "# Encode Categorical Data\n",
    "customer_profile = pd.get_dummies(customer_profile, columns=[\"Region\"], drop_first=True)\n",
    "\n",
    "# Feature Scaling\n",
    "scaler = StandardScaler()\n",
    "features = [\"TotalValue\", \"Quantity\"] + [col for col in customer_profile.columns if \"Region_\" in col]\n",
    "scaled_features = scaler.fit_transform(customer_profile[features])\n",
    "\n",
    "# Train Nearest Neighbors Model\n",
    "knn = NearestNeighbors(n_neighbors=4, metric=\"euclidean\")  # 4 to exclude self-match\n",
    "knn.fit(scaled_features)\n",
    "\n",
    "# Find Similar Customers\n",
    "lookalike_results = {}\n",
    "for i, cust_id in enumerate(customer_profile[\"CustomerID\"][:20]):\n",
    "    distances, indices = knn.kneighbors([scaled_features[i]])\n",
    "    similar_customers = [(customer_profile.iloc[idx][\"CustomerID\"], round(1 - dist, 2)) for idx, dist in zip(indices[0][1:], distances[0][1:])]\n",
    "    lookalike_results[cust_id] = similar_customers\n",
    "\n",
    "# Convert to DataFrame and Save CSV\n",
    "lookalike_df = pd.DataFrame([(key, val) for key, val in lookalike_results.items()], columns=[\"CustomerID\", \"SimilarCustomers\"])\n",
    "lookalike_df.to_csv(\"/Intern Project/Lookalike.csv\", index=False)\n",
    "\n",
    "# Print Sample Output\n",
    "print(lookalike_df.head())\n"
   ]
  },
  {
   "cell_type": "code",
   "execution_count": null,
   "id": "e8a8cc5b-e032-421b-9815-e3297f29ce17",
   "metadata": {},
   "outputs": [],
   "source": []
  }
 ],
 "metadata": {
  "kernelspec": {
   "display_name": "Python 3 (ipykernel)",
   "language": "python",
   "name": "python3"
  },
  "language_info": {
   "codemirror_mode": {
    "name": "ipython",
    "version": 3
   },
   "file_extension": ".py",
   "mimetype": "text/x-python",
   "name": "python",
   "nbconvert_exporter": "python",
   "pygments_lexer": "ipython3",
   "version": "3.12.3"
  }
 },
 "nbformat": 4,
 "nbformat_minor": 5
}
